{
 "cells": [
  {
   "cell_type": "code",
   "execution_count": 21,
   "id": "0fc63a24-5ab4-4553-8dab-3899b0b8b7ca",
   "metadata": {},
   "outputs": [],
   "source": [
    "# Creating a ATM software by using object oriented programming\n",
    "\n",
    "class Atm:\n",
    "    def __init__(self):    #constructor\n",
    "        self.__pin=\" \"\n",
    "        self.__balance=0\n",
    "        self.menu()\n",
    "\n",
    "    def menu(self):\n",
    "        user_input=input(\"\"\"Hello how would you like to proceed?\n",
    "                            1.Enter 1 to create pin\n",
    "                            2.Enter 2 to deposit\n",
    "                            3.Enter 3 to withdrawl\n",
    "                            4.Enter 4 to check balance\n",
    "                            5.Enter 5 to exist\n",
    "                                \"\"\")\n",
    "        if user_input==\"1\":\n",
    "            self.create_pin()\n",
    "        elif user_input==\"2\":\n",
    "            self.deposit()\n",
    "        elif user_input==\"3\":\n",
    "            self.withdraw()\n",
    "        elif user_input==\"4\":\n",
    "            self.check_balance()\n",
    "        else:\n",
    "            print(\"Bye\")\n",
    "\n",
    "    def create_pin(self):\n",
    "        self.pin=input(\"Enter your pin\")\n",
    "        print(\"Pin set sucessfully\")\n",
    "        \n",
    "            \n",
    "    def deposit(self):\n",
    "        temp=input(\"Enter your pin:\")\n",
    "        \n",
    "        if temp==self.pin:\n",
    "            amount=int(input(\"Enter the amount:\"))\n",
    "            self.balance=self.balance+amount\n",
    "            print(\"Deposit Sucessfully\")\n",
    "        else:\n",
    "            print(\"Invalid Pin\")\n",
    "\n",
    "    def withdraw(self):\n",
    "        temp=input(\"Enter your pin:\")\n",
    "        if temp==self.pin:\n",
    "            amount=int(input(\"Enter the amount:\"))\n",
    "            if amount<self.balance:\n",
    "                self.balance=self.balance-amount\n",
    "                print(\"Operation sucessfull\")\n",
    "            else:\n",
    "                print(\"Insufficient balance\")\n",
    "        else:\n",
    "            print(\"Invalid Pin\")\n",
    "        \n",
    "\n",
    "    def check_balance(self):\n",
    "        temp=input(\"Enter your pin:\")\n",
    "        if temp==self.pin:\n",
    "            print(\"Avalable balance is \",self.balance)\n",
    "        else:\n",
    "            print(\"Enter the correct Pin\")"
   ]
  },
  {
   "cell_type": "code",
   "execution_count": 23,
   "id": "8e175e3a-9398-46df-ada2-fd8f432c19b9",
   "metadata": {},
   "outputs": [
    {
     "name": "stdin",
     "output_type": "stream",
     "text": [
      "Hello how would you like to proceed?\n",
      "                            1.Enter 1 to create pin\n",
      "                            2.Enter 2 to deposit\n",
      "                            3.Enter 3 to withdrawl\n",
      "                            4.Enter 4 to check balance\n",
      "                            5.Enter 5 to exist\n",
      "                                 1\n",
      "Enter your pin 1223\n"
     ]
    },
    {
     "name": "stdout",
     "output_type": "stream",
     "text": [
      "Pin set sucessfully\n"
     ]
    }
   ],
   "source": [
    "sbi=Atm()"
   ]
  },
  {
   "cell_type": "code",
   "execution_count": null,
   "id": "8c64b67e-1cb0-40b2-96f7-00e0aeb31ce6",
   "metadata": {},
   "outputs": [],
   "source": [
    "sbi."
   ]
  },
  {
   "cell_type": "code",
   "execution_count": 62,
   "id": "7b1daf6b-a98c-463b-9127-f8d3b84e90c4",
   "metadata": {},
   "outputs": [
    {
     "name": "stdin",
     "output_type": "stream",
     "text": [
      "Enter your pin: 1234\n",
      "Enter the amount: 3000000000000000000000000\n"
     ]
    },
    {
     "name": "stdout",
     "output_type": "stream",
     "text": [
      "Deposit Sucessfully\n"
     ]
    }
   ],
   "source": [
    "sbi.deposit()"
   ]
  },
  {
   "cell_type": "code",
   "execution_count": 64,
   "id": "100d11ad-25c2-44a4-a6d2-0fe1dd0e156c",
   "metadata": {},
   "outputs": [
    {
     "name": "stdin",
     "output_type": "stream",
     "text": [
      "Enter your pin: 1234\n",
      "Enter the amount: 1200000000000\n"
     ]
    },
    {
     "name": "stdout",
     "output_type": "stream",
     "text": [
      "Operation sucessfull\n"
     ]
    }
   ],
   "source": [
    "sbi.withdraw()"
   ]
  },
  {
   "cell_type": "code",
   "execution_count": 66,
   "id": "21ad1192-b426-4f75-aa24-f0567094277f",
   "metadata": {},
   "outputs": [
    {
     "name": "stdin",
     "output_type": "stream",
     "text": [
      "Enter your pin: 1234\n"
     ]
    },
    {
     "name": "stdout",
     "output_type": "stream",
     "text": [
      "Avalable balance is  2999999999998800000000000\n"
     ]
    }
   ],
   "source": [
    "sbi.check_balance()"
   ]
  },
  {
   "cell_type": "code",
   "execution_count": 67,
   "id": "8ef69e6b-9351-44c6-bfdd-3ccc9ee6cc7c",
   "metadata": {},
   "outputs": [
    {
     "data": {
      "text/plain": [
       "2999999999998800000000000"
      ]
     },
     "execution_count": 67,
     "metadata": {},
     "output_type": "execute_result"
    }
   ],
   "source": [
    "sbi.balance"
   ]
  },
  {
   "cell_type": "code",
   "execution_count": 12,
   "id": "6f8d73ec-2507-44cd-8501-f41be2ffcfed",
   "metadata": {},
   "outputs": [],
   "source": [
    "#Creating own Fraction Class\n",
    "class Fraction:\n",
    "    def __init__(self,n,d):\n",
    "        self.num=n\n",
    "        self.den=d\n",
    "\n",
    "    #Using magic method in my fraction class\n",
    "    def __str__(self):\n",
    "        return \"{}/{}\".format(self.num,self.den)\n",
    "        \n",
    "    def __add__(self,other):\n",
    "        temp_num=self.num*other.den+other.num*self.den\n",
    "        temp_den=self.den*other.den\n",
    "\n",
    "        return \"{}/{}\".format(temp_num,temp_den)\n",
    "        "
   ]
  },
  {
   "cell_type": "code",
   "execution_count": 13,
   "id": "be879246-f055-4cf7-93e7-242fdbccb078",
   "metadata": {},
   "outputs": [],
   "source": [
    "c=Fraction(2,3)\n",
    "d=Fraction(1,3)"
   ]
  },
  {
   "cell_type": "code",
   "execution_count": 14,
   "id": "1cca0bc6-2fa4-470a-9113-892f7a044946",
   "metadata": {},
   "outputs": [
    {
     "name": "stdout",
     "output_type": "stream",
     "text": [
      "2/3\n",
      "1/3\n"
     ]
    }
   ],
   "source": [
    "print(c)\n",
    "print(d)"
   ]
  },
  {
   "cell_type": "code",
   "execution_count": 15,
   "id": "b3ddf9a5-08a7-4991-8288-7b4493534980",
   "metadata": {},
   "outputs": [
    {
     "name": "stdout",
     "output_type": "stream",
     "text": [
      "9/9\n"
     ]
    }
   ],
   "source": [
    "print(c+d)"
   ]
  },
  {
   "cell_type": "code",
   "execution_count": null,
   "id": "7b61d002-92fa-48ab-901e-47c410db2672",
   "metadata": {},
   "outputs": [],
   "source": []
  },
  {
   "cell_type": "code",
   "execution_count": null,
   "id": "43a1c876-4426-476e-ab09-1cb6e40612de",
   "metadata": {},
   "outputs": [],
   "source": []
  },
  {
   "cell_type": "code",
   "execution_count": null,
   "id": "5410b18b-35ee-441d-ab59-683b83b0d7b6",
   "metadata": {},
   "outputs": [],
   "source": []
  },
  {
   "cell_type": "code",
   "execution_count": null,
   "id": "0e83038f-2aa6-446b-95d4-cc23a8cc61e1",
   "metadata": {},
   "outputs": [],
   "source": []
  },
  {
   "cell_type": "code",
   "execution_count": null,
   "id": "3b59b4a3-8f96-4d0b-9651-541caffeba53",
   "metadata": {},
   "outputs": [],
   "source": []
  },
  {
   "cell_type": "code",
   "execution_count": null,
   "id": "47098f7c-3b1b-4bfb-92c2-783de7069565",
   "metadata": {},
   "outputs": [],
   "source": []
  },
  {
   "cell_type": "code",
   "execution_count": null,
   "id": "30af8d96-a583-46ca-a845-ccb121ca7f81",
   "metadata": {},
   "outputs": [],
   "source": []
  },
  {
   "cell_type": "code",
   "execution_count": null,
   "id": "01fe12e8-af61-45d8-87ab-d33e86869bc6",
   "metadata": {},
   "outputs": [],
   "source": []
  },
  {
   "cell_type": "code",
   "execution_count": null,
   "id": "24cb54fb-1f0e-4901-8f88-563450d2f072",
   "metadata": {},
   "outputs": [],
   "source": []
  },
  {
   "cell_type": "code",
   "execution_count": null,
   "id": "14846093-b7f0-4eb1-a3df-1a47ce8e0b95",
   "metadata": {},
   "outputs": [],
   "source": []
  },
  {
   "cell_type": "code",
   "execution_count": null,
   "id": "82c1daeb-6162-4aa6-a5c7-e0323e6d31b6",
   "metadata": {},
   "outputs": [],
   "source": []
  },
  {
   "cell_type": "code",
   "execution_count": null,
   "id": "3306df82-ea7b-4c0c-8ea4-562e2497d405",
   "metadata": {},
   "outputs": [],
   "source": []
  },
  {
   "cell_type": "code",
   "execution_count": null,
   "id": "2b2b65f2-9da2-440f-aaa9-99a38083882c",
   "metadata": {},
   "outputs": [],
   "source": []
  },
  {
   "cell_type": "code",
   "execution_count": null,
   "id": "0bf53a5e-7fca-4da3-aa6c-07c57205912f",
   "metadata": {},
   "outputs": [],
   "source": []
  },
  {
   "cell_type": "code",
   "execution_count": null,
   "id": "9f4d5a0f-4842-458d-a64e-b05064d85615",
   "metadata": {},
   "outputs": [],
   "source": []
  },
  {
   "cell_type": "code",
   "execution_count": null,
   "id": "2681aa71-17c2-4d1a-afce-e9f220bf422a",
   "metadata": {},
   "outputs": [],
   "source": []
  },
  {
   "cell_type": "code",
   "execution_count": null,
   "id": "7e4ad410-0458-4b1f-a29d-eab7f0755514",
   "metadata": {},
   "outputs": [],
   "source": []
  },
  {
   "cell_type": "code",
   "execution_count": null,
   "id": "d84e416f-7991-4d59-8372-e1353a266272",
   "metadata": {},
   "outputs": [],
   "source": []
  },
  {
   "cell_type": "code",
   "execution_count": null,
   "id": "caec3227-3c19-4fed-827f-cdb7286fb016",
   "metadata": {},
   "outputs": [],
   "source": []
  },
  {
   "cell_type": "code",
   "execution_count": null,
   "id": "e346ef9a-c9ee-409a-8825-57ee195dc1b2",
   "metadata": {},
   "outputs": [],
   "source": []
  },
  {
   "cell_type": "code",
   "execution_count": null,
   "id": "244fa918-a6b8-47d8-ab8d-b9ed35352cf4",
   "metadata": {},
   "outputs": [],
   "source": []
  },
  {
   "cell_type": "code",
   "execution_count": null,
   "id": "0faa05dd-d5fd-4d3d-8be8-5f74aef8bdaf",
   "metadata": {},
   "outputs": [],
   "source": []
  },
  {
   "cell_type": "code",
   "execution_count": null,
   "id": "068228e9-bf07-4cc0-8ef1-8341c4db7cba",
   "metadata": {},
   "outputs": [],
   "source": []
  },
  {
   "cell_type": "code",
   "execution_count": null,
   "id": "b27eb0e1-a8ed-4d70-a443-339ef059f28b",
   "metadata": {},
   "outputs": [],
   "source": []
  },
  {
   "cell_type": "code",
   "execution_count": null,
   "id": "1ce9186e-7c7c-4fa7-94a8-23ec9209e382",
   "metadata": {},
   "outputs": [],
   "source": []
  },
  {
   "cell_type": "code",
   "execution_count": null,
   "id": "7ffc80f8-83fe-4632-8b49-0c3c8cd91f42",
   "metadata": {},
   "outputs": [],
   "source": []
  },
  {
   "cell_type": "code",
   "execution_count": null,
   "id": "0a4516a9-8bfd-40ad-9423-d870f83f18c6",
   "metadata": {},
   "outputs": [],
   "source": []
  },
  {
   "cell_type": "code",
   "execution_count": null,
   "id": "fa8ed33e-b313-446b-8fee-b9e23cb8ce6c",
   "metadata": {},
   "outputs": [],
   "source": []
  },
  {
   "cell_type": "code",
   "execution_count": null,
   "id": "59de2fa5-84db-49cb-abde-2cc43baefa4a",
   "metadata": {},
   "outputs": [],
   "source": []
  },
  {
   "cell_type": "code",
   "execution_count": null,
   "id": "5a03caec-c5b6-4bc0-8f7b-25b614ada2d8",
   "metadata": {},
   "outputs": [],
   "source": []
  },
  {
   "cell_type": "code",
   "execution_count": null,
   "id": "bb1007f5-c761-4189-b03a-232b5d5becf2",
   "metadata": {},
   "outputs": [],
   "source": []
  },
  {
   "cell_type": "code",
   "execution_count": null,
   "id": "9e75f76d-653d-4e80-96a9-f6d783e6e8a1",
   "metadata": {},
   "outputs": [],
   "source": []
  },
  {
   "cell_type": "code",
   "execution_count": null,
   "id": "da3250ab-b9bf-4350-87b0-5219122be529",
   "metadata": {},
   "outputs": [],
   "source": []
  },
  {
   "cell_type": "code",
   "execution_count": null,
   "id": "fd2788bc-40e8-47ff-9b47-4f73e71175f9",
   "metadata": {},
   "outputs": [],
   "source": []
  },
  {
   "cell_type": "code",
   "execution_count": null,
   "id": "866e7594-65c1-4d1f-9903-0e9ae90d3f1e",
   "metadata": {},
   "outputs": [],
   "source": []
  },
  {
   "cell_type": "code",
   "execution_count": null,
   "id": "9bbc0d3a-4a7b-4bab-ae84-0b639bfa03b4",
   "metadata": {},
   "outputs": [],
   "source": []
  },
  {
   "cell_type": "code",
   "execution_count": null,
   "id": "160ce078-da0b-4693-b961-903d80256186",
   "metadata": {},
   "outputs": [],
   "source": []
  },
  {
   "cell_type": "code",
   "execution_count": null,
   "id": "0f16c59b-5f42-498a-8006-a2564068604e",
   "metadata": {},
   "outputs": [],
   "source": []
  },
  {
   "cell_type": "code",
   "execution_count": null,
   "id": "373fe1c8-3bf5-4ca7-aa5d-8d534e40754f",
   "metadata": {},
   "outputs": [],
   "source": []
  },
  {
   "cell_type": "code",
   "execution_count": null,
   "id": "c9b3717a-35ad-48f5-8c58-b93c8fd785fa",
   "metadata": {},
   "outputs": [],
   "source": []
  },
  {
   "cell_type": "code",
   "execution_count": null,
   "id": "10ca2c7c-6ae7-429c-8562-c67a43fd0cea",
   "metadata": {},
   "outputs": [],
   "source": []
  },
  {
   "cell_type": "code",
   "execution_count": null,
   "id": "41337e48-71fe-4b00-a468-29fd4c6233ce",
   "metadata": {},
   "outputs": [],
   "source": []
  },
  {
   "cell_type": "code",
   "execution_count": null,
   "id": "ed712487-3ef4-4e01-afc6-9b2e434c19d8",
   "metadata": {},
   "outputs": [],
   "source": []
  },
  {
   "cell_type": "code",
   "execution_count": null,
   "id": "f687c31c-b969-4459-83e9-57789526e87b",
   "metadata": {},
   "outputs": [],
   "source": []
  },
  {
   "cell_type": "code",
   "execution_count": null,
   "id": "14e38097-ad11-40de-b971-7eb0a473bbf7",
   "metadata": {},
   "outputs": [],
   "source": []
  },
  {
   "cell_type": "code",
   "execution_count": null,
   "id": "44c8fac2-817b-4d5d-b6d4-71bd910a06e7",
   "metadata": {},
   "outputs": [],
   "source": []
  },
  {
   "cell_type": "code",
   "execution_count": null,
   "id": "d8f04500-011a-41fd-9181-5ed87ca17b6a",
   "metadata": {},
   "outputs": [],
   "source": []
  },
  {
   "cell_type": "code",
   "execution_count": null,
   "id": "ab83ef17-3d06-4b36-aa0b-88bb81428a25",
   "metadata": {},
   "outputs": [],
   "source": []
  },
  {
   "cell_type": "code",
   "execution_count": null,
   "id": "2d14be08-3ab8-4d82-a092-9550dc94584a",
   "metadata": {},
   "outputs": [],
   "source": []
  },
  {
   "cell_type": "code",
   "execution_count": null,
   "id": "ed99efdc-556c-4e28-afe0-ba66b6bbffce",
   "metadata": {},
   "outputs": [],
   "source": []
  },
  {
   "cell_type": "code",
   "execution_count": null,
   "id": "af41a34a-51a4-4252-84b8-b29c3bc02963",
   "metadata": {},
   "outputs": [],
   "source": []
  },
  {
   "cell_type": "code",
   "execution_count": null,
   "id": "426e0012-0bb2-4c10-9f3c-728675dcfb9f",
   "metadata": {},
   "outputs": [],
   "source": []
  },
  {
   "cell_type": "code",
   "execution_count": null,
   "id": "dc7efe3b-22fe-4a63-8dbe-97d05f6d8bbb",
   "metadata": {},
   "outputs": [],
   "source": []
  },
  {
   "cell_type": "code",
   "execution_count": null,
   "id": "16b96c74-3b2b-4ae5-be56-8638ff0e3f42",
   "metadata": {},
   "outputs": [],
   "source": []
  },
  {
   "cell_type": "code",
   "execution_count": null,
   "id": "0e7174a7-9167-4d44-ac8a-5ccff80ae71b",
   "metadata": {},
   "outputs": [],
   "source": []
  },
  {
   "cell_type": "code",
   "execution_count": null,
   "id": "c811a88d-445a-4d24-9efe-0d32d30b13fb",
   "metadata": {},
   "outputs": [],
   "source": []
  },
  {
   "cell_type": "code",
   "execution_count": null,
   "id": "acce0034-c9dc-4f75-8d71-54cbe56afdf3",
   "metadata": {},
   "outputs": [],
   "source": []
  },
  {
   "cell_type": "code",
   "execution_count": null,
   "id": "d2cad67c-477b-4443-9762-e915ed6161e5",
   "metadata": {},
   "outputs": [],
   "source": []
  },
  {
   "cell_type": "code",
   "execution_count": null,
   "id": "d3595dbf-8ff6-40ad-ab0a-1369f6512d0e",
   "metadata": {},
   "outputs": [],
   "source": []
  },
  {
   "cell_type": "code",
   "execution_count": null,
   "id": "871a87ea-a32e-43d0-a8e4-85eba117cb68",
   "metadata": {},
   "outputs": [],
   "source": []
  },
  {
   "cell_type": "code",
   "execution_count": null,
   "id": "40bf733a-c6d4-4c78-aa0c-9485c726f213",
   "metadata": {},
   "outputs": [],
   "source": []
  },
  {
   "cell_type": "code",
   "execution_count": null,
   "id": "19a95f86-34aa-42d5-877f-55a075f45cf5",
   "metadata": {},
   "outputs": [],
   "source": []
  },
  {
   "cell_type": "code",
   "execution_count": null,
   "id": "4db4b5d5-1d93-49b5-8269-798f96b9fbd3",
   "metadata": {},
   "outputs": [],
   "source": []
  },
  {
   "cell_type": "code",
   "execution_count": null,
   "id": "16278a21-bbbe-46b9-be4f-c17b7dcf8a11",
   "metadata": {},
   "outputs": [],
   "source": []
  },
  {
   "cell_type": "code",
   "execution_count": null,
   "id": "437df812-22d1-446e-b613-35891e16f360",
   "metadata": {},
   "outputs": [],
   "source": []
  },
  {
   "cell_type": "code",
   "execution_count": null,
   "id": "52370329-2359-4166-abb4-2bcda32ad367",
   "metadata": {},
   "outputs": [],
   "source": []
  }
 ],
 "metadata": {
  "kernelspec": {
   "display_name": "Python 3 (ipykernel)",
   "language": "python",
   "name": "python3"
  },
  "language_info": {
   "codemirror_mode": {
    "name": "ipython",
    "version": 3
   },
   "file_extension": ".py",
   "mimetype": "text/x-python",
   "name": "python",
   "nbconvert_exporter": "python",
   "pygments_lexer": "ipython3",
   "version": "3.11.4"
  },
  "widgets": {
   "application/vnd.jupyter.widget-state+json": {
    "state": {},
    "version_major": 2,
    "version_minor": 0
   }
  }
 },
 "nbformat": 4,
 "nbformat_minor": 5
}
